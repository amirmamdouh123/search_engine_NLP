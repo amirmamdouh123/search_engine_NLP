{
 "cells": [
  {
   "cell_type": "code",
   "execution_count": 17,
   "id": "07f35a71",
   "metadata": {},
   "outputs": [],
   "source": [
    "import numpy as np\n",
    "import matplotlib.pyplot as plt\n",
    "from sklearn.feature_extraction.text import TfidfVectorizer \n",
    "from nltk.tokenize import sent_tokenize\n",
    "import pandas as pd"
   ]
  },
  {
   "cell_type": "code",
   "execution_count": null,
   "id": "08197b56",
   "metadata": {},
   "outputs": [
    {
     "data": {
      "text/plain": [
       "10"
      ]
     },
     "execution_count": 27,
     "metadata": {},
     "output_type": "execute_result"
    }
   ],
   "source": [
    "corpus = \"After the bullet shells get counted, the blood dries and the votive candles burn out, people peer down from   windows and see crime scenes gone cold: a band of yellow police tape blowing in the breeze. The South Bronx, just across the Harlem River from Manhattan and once shorthand for urban dysfunction, still suffers violence at levels long ago slashed in many other parts of New York City. And yet the cityâ€™s efforts to fight it remain splintered, underfunded and burdened by scandal. In the 40th Precinct, at the southern tip of the Bronx, as in other poor, minority neighborhoods across the country, people long hounded for   infractions are crying out for more protection against grievous injury or death. By September, four of every five shootings in the precinct this year were unsolved. Out of the cityâ€™s 77 precincts, the 40th has the highest murder rate but the fewest detectives per violent crime, reflecting disparities in staffing that hit hardest in some neighborhoods outside Manhattan, according to a New York Times analysis of Police Department data. Investigators in the precinct are saddled with twice the number of cases the department recommends, even as their bosses are called to Police Headquarters to answer for the sharpest crime rise in the city this year. And across the Bronx, investigative resources are squeezed. It has the highest   rate of the cityâ€™s five boroughs but the thinnest detective staffing. Nine of the 14   precinct detective squads for violent crime in the city are there. The boroughâ€™s robbery squad is smaller than Manhattanâ€™s, even though the Bronx has had 1, 300 more cases this year. And its homicide squad has one detective for every four murders, compared with one detective for roughly every two murders in Upper Manhattan and more than one detective per murder in Lower Manhattan. In   lobbies and   family apartments, outside methadone clinics and art studios, people take note of the inequity. They hear police commanders explain that they lack the resources to place a floodlight on a dangerous block or to post officers at a   corner. They watch witnesses cower behind   doors, more fearful of a gunmanâ€™s crew than confident in the Police Departmentâ€™s ability to protect them. So though people see a lot, they rarely testify. And in the South Bronx, as in so many predominantly black and Hispanic neighborhoods like it in the United States, the contract between the police and the community is in tatters. Some people have stories of crime reports that were ignored, or 911 calls that went unanswered for hours. Others tell of a 911 call for help ending in the callerâ€™s arrest, or of a minor charge leading to 12 hours in a fetid holding cell. This is the paradox of policing in the 40th Precinct. Its neighborhoods have historically been prime targets for aggressive tactics, like    that are designed to ward off disorder. But precinct detectives there have less time than anywhere else in the city to answer for the blood spilled in violent crimes. Gola White, who was beside her daughter when she was shot and killed in a playground this summer, four years after her son was gunned down in the same housing project, ticked off the public safety resources that she said were scant in Bronx neighborhoods like hers: security cameras, lights, locks, investigating police officers. â€œHere, we have nothing,â€‌ she said.\"\n",
    "corpus =sent_tokenize(corpus)\n",
    "corpus=corpus[:10]\n",
    "len(corpus)"
   ]
  },
  {
   "cell_type": "code",
   "execution_count": 28,
   "id": "85c9af55",
   "metadata": {},
   "outputs": [
    {
     "data": {
      "text/plain": [
       "(10, 147)"
      ]
     },
     "execution_count": 28,
     "metadata": {},
     "output_type": "execute_result"
    }
   ],
   "source": [
    "vectorizer = TfidfVectorizer()\n",
    "x =vectorizer.fit_transform(corpus)\n",
    "x.shape"
   ]
  },
  {
   "cell_type": "code",
   "execution_count": null,
   "id": "6d25660a",
   "metadata": {},
   "outputs": [],
   "source": [
    "def cosine_similarity(v1,v2):\n",
    "    return  np.dot(v1, v2)/ (np.linalg.norm(v1) * np.linalg.norm(v2))"
   ]
  },
  {
   "cell_type": "code",
   "execution_count": 94,
   "id": "fc03cd6f",
   "metadata": {},
   "outputs": [],
   "source": [
    "def search_engine(query):\n",
    "    query= [query]\n",
    "    result = vectorizer.transform(query).toarray()\n",
    "    v1= result.reshape(result.shape[1],) #v1 -> vec of query that need to search for\n",
    "    \n",
    "    similarity = {}\n",
    "    for i in range(x.shape[0]): #no of documents \n",
    "        v2= x[i,:].toarray().reshape(x[i,:].shape[1],)#v2 ->one of docs that we search in.\n",
    "        similarity[f'doc {i+1}:'] = cosine_similarity(v1,v2)\n",
    "    return similarity"
   ]
  },
  {
   "cell_type": "code",
   "execution_count": 84,
   "id": "58e89043",
   "metadata": {},
   "outputs": [
    {
     "name": "stdout",
     "output_type": "stream",
     "text": [
      "doc,1   0.18455507072758484\n",
      "doc,2   0.0\n",
      "doc,3   0.0\n",
      "doc,4   0.0\n",
      "doc,5   0.0\n",
      "doc,6   0.0\n",
      "doc,7   0.0\n",
      "doc,8   0.0\n",
      "doc,9   0.0\n",
      "doc,10   0.0\n"
     ]
    }
   ],
   "source": [
    "search_engine('blood')"
   ]
  },
  {
   "cell_type": "code",
   "execution_count": 85,
   "id": "a6d7a6f8",
   "metadata": {},
   "outputs": [
    {
     "name": "stdout",
     "output_type": "stream",
     "text": [
      "doc,1   0.4125746324285944\n",
      "doc,2   0.027115200723483494\n",
      "doc,3   0.019057196416221785\n",
      "doc,4   0.05110089461736693\n",
      "doc,5   0.021360892331820546\n",
      "doc,6   0.04734044079239138\n",
      "doc,7   0.06257933849218322\n",
      "doc,8   0.02970945730522782\n",
      "doc,9   0.06453255640777247\n",
      "doc,10   0.04549595760666679\n"
     ]
    }
   ],
   "source": [
    "search_engine('After the bullet shells get tisak')"
   ]
  },
  {
   "cell_type": "code",
   "execution_count": 97,
   "id": "13064b1a",
   "metadata": {},
   "outputs": [
    {
     "data": {
      "text/plain": [
       "[('doc 1:', 0.4125746324285944),\n",
       " ('doc 9:', 0.06453255640777247),\n",
       " ('doc 7:', 0.06257933849218322),\n",
       " ('doc 4:', 0.05110089461736693),\n",
       " ('doc 6:', 0.04734044079239138),\n",
       " ('doc 10:', 0.04549595760666679),\n",
       " ('doc 8:', 0.02970945730522782),\n",
       " ('doc 2:', 0.027115200723483494),\n",
       " ('doc 5:', 0.021360892331820546),\n",
       " ('doc 3:', 0.019057196416221785)]"
      ]
     },
     "execution_count": 97,
     "metadata": {},
     "output_type": "execute_result"
    }
   ],
   "source": [
    "#can get the most relevant documents for the query \n",
    "similarity = search_engine('After the bullet shells get tisak')\n",
    "similarity= sorted(similarity.items(),key = lambda x: x[1],reverse=True)\n",
    "similarity"
   ]
  },
  {
   "cell_type": "code",
   "execution_count": null,
   "id": "4a78458b",
   "metadata": {},
   "outputs": [],
   "source": [
    "# finished code "
   ]
  },
  {
   "cell_type": "code",
   "execution_count": null,
   "id": "9d76bf80",
   "metadata": {},
   "outputs": [],
   "source": [
    "# 3aizin ndwar 3la alklma bta3tna fel documents f bnd5lha 3la asas anha doc wa7ed fe list\n",
    "query = 'blood'\n",
    "query= [query]\n",
    "result_of_search = vectorizer.transform(query).toarray()\n",
    "\n",
    "result_of_search # m4 fahem al output ?"
   ]
  },
  {
   "cell_type": "code",
   "execution_count": null,
   "id": "20c23141",
   "metadata": {},
   "outputs": [],
   "source": [
    "#for test\n",
    "vectorizer.transform(['After the bullet shells get tisak']).toarray().shape  # lma bt2olo transform bi3tbr list ali d5let de list of doc\n",
    "                                                                             #w bi4of al klmat ali mwgoda fel doc algdid da \n",
    "                                                                             #bel nesba llklmat ali atdrb 3liha fo2 fel (.fit_transform) bs \n",
    "                                                                             #w bnsbet 2ad eh wkda y3ni lw fe klmet 'amir' fe aldoc algdid wlla akenno 4afha"
   ]
  },
  {
   "cell_type": "code",
   "execution_count": null,
   "id": "f59b26b8",
   "metadata": {},
   "outputs": [],
   "source": [
    "#for test \n",
    "pd.DataFrame(x.toarray().T, index=vectorizer.get_feature_names()) # 10 documents ,147 unique word"
   ]
  }
 ],
 "metadata": {
  "kernelspec": {
   "display_name": "Python 3 (ipykernel)",
   "language": "python",
   "name": "python3"
  },
  "language_info": {
   "codemirror_mode": {
    "name": "ipython",
    "version": 3
   },
   "file_extension": ".py",
   "mimetype": "text/x-python",
   "name": "python",
   "nbconvert_exporter": "python",
   "pygments_lexer": "ipython3",
   "version": "3.9.7"
  }
 },
 "nbformat": 4,
 "nbformat_minor": 5
}
