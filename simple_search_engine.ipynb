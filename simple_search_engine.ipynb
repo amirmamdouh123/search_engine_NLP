{
 "cells": [
  {
   "cell_type": "code",
   "execution_count": 17,
   "id": "07f35a71",
   "metadata": {},
   "outputs": [],
   "source": [
    "import numpy as np\n",
    "import matplotlib.pyplot as plt\n",
    "from sklearn.feature_extraction.text import TfidfVectorizer \n",
    "from nltk.tokenize import sent_tokenize\n",
    "import pandas as pd"
   ]
  },
  {
   "cell_type": "code",
   "execution_count": 117,
   "id": "4d9bd528",
   "metadata": {},
   "outputs": [
    {
     "ename": "FileNotFoundError",
     "evalue": "[Errno 2] No such file or directory: 'docs.txt'",
     "output_type": "error",
     "traceback": [
      "\u001b[1;31m---------------------------------------------------------------------------\u001b[0m",
      "\u001b[1;31mFileNotFoundError\u001b[0m                         Traceback (most recent call last)",
      "Cell \u001b[1;32mIn[117], line 1\u001b[0m\n\u001b[1;32m----> 1\u001b[0m \u001b[38;5;28;01mwith\u001b[39;00m \u001b[38;5;28;43mopen\u001b[39;49m\u001b[43m(\u001b[49m\u001b[38;5;124;43m'\u001b[39;49m\u001b[38;5;124;43mdocs.txt\u001b[39;49m\u001b[38;5;124;43m'\u001b[39;49m\u001b[43m,\u001b[49m\u001b[38;5;124;43m'\u001b[39;49m\u001b[38;5;124;43mr\u001b[39;49m\u001b[38;5;124;43m'\u001b[39;49m\u001b[43m)\u001b[49m\u001b[38;5;28;01mas\u001b[39;00m f:\n\u001b[0;32m      2\u001b[0m     corpus \u001b[38;5;241m=\u001b[39m f\u001b[38;5;241m.\u001b[39mread()\n\u001b[0;32m      3\u001b[0m corpus\u001b[38;5;241m=\u001b[39mcorpus[:\u001b[38;5;241m10\u001b[39m]\n",
      "File \u001b[1;32m~\\AppData\\Roaming\\Python\\Python39\\site-packages\\IPython\\core\\interactiveshell.py:282\u001b[0m, in \u001b[0;36m_modified_open\u001b[1;34m(file, *args, **kwargs)\u001b[0m\n\u001b[0;32m    275\u001b[0m \u001b[38;5;28;01mif\u001b[39;00m file \u001b[38;5;129;01min\u001b[39;00m {\u001b[38;5;241m0\u001b[39m, \u001b[38;5;241m1\u001b[39m, \u001b[38;5;241m2\u001b[39m}:\n\u001b[0;32m    276\u001b[0m     \u001b[38;5;28;01mraise\u001b[39;00m \u001b[38;5;167;01mValueError\u001b[39;00m(\n\u001b[0;32m    277\u001b[0m         \u001b[38;5;124mf\u001b[39m\u001b[38;5;124m\"\u001b[39m\u001b[38;5;124mIPython won\u001b[39m\u001b[38;5;124m'\u001b[39m\u001b[38;5;124mt let you open fd=\u001b[39m\u001b[38;5;132;01m{\u001b[39;00mfile\u001b[38;5;132;01m}\u001b[39;00m\u001b[38;5;124m by default \u001b[39m\u001b[38;5;124m\"\u001b[39m\n\u001b[0;32m    278\u001b[0m         \u001b[38;5;124m\"\u001b[39m\u001b[38;5;124mas it is likely to crash IPython. If you know what you are doing, \u001b[39m\u001b[38;5;124m\"\u001b[39m\n\u001b[0;32m    279\u001b[0m         \u001b[38;5;124m\"\u001b[39m\u001b[38;5;124myou can use builtins\u001b[39m\u001b[38;5;124m'\u001b[39m\u001b[38;5;124m open.\u001b[39m\u001b[38;5;124m\"\u001b[39m\n\u001b[0;32m    280\u001b[0m     )\n\u001b[1;32m--> 282\u001b[0m \u001b[38;5;28;01mreturn\u001b[39;00m io_open(file, \u001b[38;5;241m*\u001b[39margs, \u001b[38;5;241m*\u001b[39m\u001b[38;5;241m*\u001b[39mkwargs)\n",
      "\u001b[1;31mFileNotFoundError\u001b[0m: [Errno 2] No such file or directory: 'docs.txt'"
     ]
    }
   ],
   "source": [
    "with open('docs.txt','r')as f:\n",
    "    corpus = f.read()\n",
    "corpus=corpus[:10]\n",
    "len(corpus)"
   ]
  },
  {
   "cell_type": "code",
   "execution_count": 28,
   "id": "10f7eaac",
   "metadata": {},
   "outputs": [
    {
     "data": {
      "text/plain": [
       "(10, 147)"
      ]
     },
     "execution_count": 28,
     "metadata": {},
     "output_type": "execute_result"
    }
   ],
   "source": [
    "vectorizer = TfidfVectorizer()\n",
    "x =vectorizer.fit_transform(corpus)\n",
    "x.shape"
   ]
  },
  {
   "cell_type": "code",
   "execution_count": null,
   "id": "c20dee1e",
   "metadata": {},
   "outputs": [],
   "source": [
    "def cosine_similarity(v1,v2):\n",
    "    return  np.dot(v1, v2)/ (np.linalg.norm(v1) * np.linalg.norm(v2))"
   ]
  },
  {
   "cell_type": "code",
   "execution_count": 94,
   "id": "10b66b0b",
   "metadata": {},
   "outputs": [],
   "source": [
    "def search_engine(query):\n",
    "    query= [query]\n",
    "    result = vectorizer.transform(query).toarray()\n",
    "    v1= result.reshape(result.shape[1],) #v1 -> vec of query that need to search for\n",
    "    \n",
    "    similarity = {}\n",
    "    doc={}\n",
    "    for i in range(x.shape[0]): #no of documents \n",
    "        v2= x[i,:].toarray().reshape(x[i,:].shape[1],)#v2 ->one of docs that we search in.\n",
    "        similarity[f'doc {i+1}:'] = cosine_similarity(v1,v2)\n",
    "    return similarity"
   ]
  },
  {
   "cell_type": "code",
   "execution_count": 84,
   "id": "c723ecc4",
   "metadata": {},
   "outputs": [
    {
     "name": "stdout",
     "output_type": "stream",
     "text": [
      "doc,1   0.18455507072758484\n",
      "doc,2   0.0\n",
      "doc,3   0.0\n",
      "doc,4   0.0\n",
      "doc,5   0.0\n",
      "doc,6   0.0\n",
      "doc,7   0.0\n",
      "doc,8   0.0\n",
      "doc,9   0.0\n",
      "doc,10   0.0\n"
     ]
    }
   ],
   "source": [
    "search_engine('blood')"
   ]
  },
  {
   "cell_type": "code",
   "execution_count": 85,
   "id": "f2a16351",
   "metadata": {},
   "outputs": [
    {
     "name": "stdout",
     "output_type": "stream",
     "text": [
      "doc,1   0.4125746324285944\n",
      "doc,2   0.027115200723483494\n",
      "doc,3   0.019057196416221785\n",
      "doc,4   0.05110089461736693\n",
      "doc,5   0.021360892331820546\n",
      "doc,6   0.04734044079239138\n",
      "doc,7   0.06257933849218322\n",
      "doc,8   0.02970945730522782\n",
      "doc,9   0.06453255640777247\n",
      "doc,10   0.04549595760666679\n"
     ]
    }
   ],
   "source": [
    "search_engine('After the bullet shells get tisak')"
   ]
  },
  {
   "cell_type": "code",
   "execution_count": 97,
   "id": "da0de15f",
   "metadata": {},
   "outputs": [
    {
     "data": {
      "text/plain": [
       "[('doc 1:', 0.4125746324285944),\n",
       " ('doc 9:', 0.06453255640777247),\n",
       " ('doc 7:', 0.06257933849218322),\n",
       " ('doc 4:', 0.05110089461736693),\n",
       " ('doc 6:', 0.04734044079239138),\n",
       " ('doc 10:', 0.04549595760666679),\n",
       " ('doc 8:', 0.02970945730522782),\n",
       " ('doc 2:', 0.027115200723483494),\n",
       " ('doc 5:', 0.021360892331820546),\n",
       " ('doc 3:', 0.019057196416221785)]"
      ]
     },
     "execution_count": 97,
     "metadata": {},
     "output_type": "execute_result"
    }
   ],
   "source": [
    "#can get the most relevant documents for the query \n",
    "similarity = search_engine('After the bullet shells get tisak')\n",
    "similarity= sorted(similarity.items(),key = lambda x: x[1],reverse=True)\n",
    "similarity"
   ]
  },
  {
   "cell_type": "code",
   "execution_count": 111,
   "id": "b065feb0",
   "metadata": {},
   "outputs": [
    {
     "name": "stdout",
     "output_type": "stream",
     "text": [
      "['blood']\n",
      "doc 1: The South Bronx, just across the Harlem River from Manhattan and once shorthand for urban dysfunction, still suffers violence at levels long ago slashed in many other parts of New York City.  with similarity:  0.4125746324285944 \n",
      "\n",
      "doc 9: Nine of the 14   precinct detective squads for violent crime in the city are there.  with similarity:  0.06453255640777247 \n",
      "\n",
      "doc 7: And across the Bronx, investigative resources are squeezed.  with similarity:  0.06257933849218322 \n",
      "\n",
      "doc 4: By September, four of every five shootings in the precinct this year were unsolved.  with similarity:  0.05110089461736693 \n",
      "\n",
      "doc 6: Investigators in the precinct are saddled with twice the number of cases the department recommends, even as their bosses are called to Police Headquarters to answer for the sharpest crime rise in the city this year.  with similarity:  0.04734044079239138 \n",
      "\n",
      "doc 10: After the bullet shells get counted, the blood dries and the votive candles burn out, people peer down from   windows and see crime scenes gone cold: a band of yellow police tape blowing in the breeze.  with similarity:  0.04549595760666679 \n",
      "\n",
      "doc 8: It has the highest   rate of the cityâ€™s five boroughs but the thinnest detective staffing.  with similarity:  0.02970945730522782 \n",
      "\n",
      "doc 2: And yet the cityâ€™s efforts to fight it remain splintered, underfunded and burdened by scandal.  with similarity:  0.027115200723483494 \n",
      "\n",
      "doc 5: Out of the cityâ€™s 77 precincts, the 40th has the highest murder rate but the fewest detectives per violent crime, reflecting disparities in staffing that hit hardest in some neighborhoods outside Manhattan, according to a New York Times analysis of Police Department data.  with similarity:  0.021360892331820546 \n",
      "\n",
      "doc 3: In the 40th Precinct, at the southern tip of the Bronx, as in other poor, minority neighborhoods across the country, people long hounded for   infractions are crying out for more protection against grievous injury or death.  with similarity:  0.019057196416221785 \n",
      "\n"
     ]
    }
   ],
   "source": [
    "print(query)\n",
    "for i,j in similarity:\n",
    "    print(f'{i}',corpus[int(i[-2])],\" with similarity: \",j,'\\n')"
   ]
  },
  {
   "cell_type": "code",
   "execution_count": null,
   "id": "1a2d1f39",
   "metadata": {},
   "outputs": [],
   "source": []
  },
  {
   "cell_type": "code",
   "execution_count": null,
   "id": "4125cce5",
   "metadata": {},
   "outputs": [],
   "source": []
  },
  {
   "cell_type": "code",
   "execution_count": null,
   "id": "c77b96cd",
   "metadata": {},
   "outputs": [],
   "source": []
  },
  {
   "cell_type": "code",
   "execution_count": null,
   "id": "def90248",
   "metadata": {},
   "outputs": [],
   "source": [
    "# finished code "
   ]
  },
  {
   "cell_type": "code",
   "execution_count": null,
   "id": "86d937a1",
   "metadata": {},
   "outputs": [],
   "source": [
    "# 3aizin ndwar 3la alklma bta3tna fel documents f bnd5lha 3la asas anha doc wa7ed fe list\n",
    "query = 'blood'\n",
    "query= [query]\n",
    "result_of_search = vectorizer.transform(query).toarray()\n",
    "\n",
    "result_of_search # m4 fahem al output ?"
   ]
  },
  {
   "cell_type": "code",
   "execution_count": null,
   "id": "91d1a2e0",
   "metadata": {},
   "outputs": [],
   "source": [
    "#for test\n",
    "vectorizer.transform(['After the bullet shells get tisak']).toarray().shape  # lma bt2olo transform bi3tbr list ali d5let de list of doc\n",
    "                                                                             #w bi4of al klmat ali mwgoda fel doc algdid da \n",
    "                                                                             #bel nesba llklmat ali atdrb 3liha fo2 fel (.fit_transform) bs \n",
    "                                                                             #w bnsbet 2ad eh wkda y3ni lw fe klmet 'amir' fe aldoc algdid wlla akenno 4afha"
   ]
  },
  {
   "cell_type": "code",
   "execution_count": null,
   "id": "386cceb3",
   "metadata": {},
   "outputs": [],
   "source": [
    "#for test \n",
    "pd.DataFrame(x.toarray().T, index=vectorizer.get_feature_names()) # 10 documents ,147 unique word"
   ]
  }
 ],
 "metadata": {
  "kernelspec": {
   "display_name": "Python 3 (ipykernel)",
   "language": "python",
   "name": "python3"
  },
  "language_info": {
   "codemirror_mode": {
    "name": "ipython",
    "version": 3
   },
   "file_extension": ".py",
   "mimetype": "text/x-python",
   "name": "python",
   "nbconvert_exporter": "python",
   "pygments_lexer": "ipython3",
   "version": "3.9.7"
  }
 },
 "nbformat": 4,
 "nbformat_minor": 5
}
