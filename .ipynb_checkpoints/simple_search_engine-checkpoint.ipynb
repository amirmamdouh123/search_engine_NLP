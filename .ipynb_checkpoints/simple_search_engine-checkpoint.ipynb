{
 "cells": [
  {
   "cell_type": "code",
   "execution_count": 6,
   "id": "07f35a71",
   "metadata": {},
   "outputs": [],
   "source": [
    "import numpy as np\n",
    "import matplotlib.pyplot as plt\n",
    "from sklearn.feature_extraction.text import TfidfVectorizer \n",
    "from nltk.tokenize import sent_tokenize\n",
    "import pandas as pd"
   ]
  },
  {
   "cell_type": "code",
   "execution_count": 10,
   "id": "4d9bd528",
   "metadata": {},
   "outputs": [
    {
     "data": {
      "text/plain": [
       "['After the bullet shells get counted, the blood dries and the votive candles burn out, people peer down from   windows and see crime scenes gone cold: a band of yellow police tape blowing in the breeze.',\n",
       " 'The South Bronx, just across the Harlem River from Manhattan and once shorthand for urban dysfunction, still suffers violence at levels long ago slashed in many other parts of New York City.',\n",
       " 'And yet the cityأ¢â‚¬â„¢s efforts to fight it remain splintered, underfunded and burdened by scandal.',\n",
       " 'In the 40th Precinct, at the southern tip of the Bronx, as in other poor, minority neighborhoods across the country, people long hounded for   infractions are crying out for more protection against grievous injury or death.',\n",
       " 'By September, four of every five shootings in the precinct this year were unsolved.',\n",
       " 'Out of the cityأ¢â‚¬â„¢s 77 precincts, the 40th has the highest murder rate but the fewest detectives per violent crime, reflecting disparities in staffing that hit hardest in some neighborhoods outside Manhattan, according to a New York Times analysis of Police Department data.',\n",
       " 'Investigators in the precinct are saddled with twice the number of cases the department recommends, even as their bosses are called to Police Headquarters to answer for the sharpest crime rise in the city this year.',\n",
       " 'And across the Bronx, investigative resources are squeezed.',\n",
       " 'It has the highest   rate of the cityأ¢â‚¬â„¢s five boroughs but the thinnest detective staffing.',\n",
       " 'Nine of the 14   precinct detective squads for violent crime in the city are there.']"
      ]
     },
     "execution_count": 10,
     "metadata": {},
     "output_type": "execute_result"
    }
   ],
   "source": [
    "with open('docs.txt','r')as f:\n",
    "    corpus = f.read()\n",
    "corpus=sent_tokenize(corpus)\n",
    "corpus=corpus[:10]\n",
    "corpus"
   ]
  },
  {
   "cell_type": "code",
   "execution_count": 11,
   "id": "10f7eaac",
   "metadata": {},
   "outputs": [
    {
     "data": {
      "text/plain": [
       "(10, 147)"
      ]
     },
     "execution_count": 11,
     "metadata": {},
     "output_type": "execute_result"
    }
   ],
   "source": [
    "vectorizer = TfidfVectorizer()\n",
    "x =vectorizer.fit_transform(corpus)\n",
    "x.shape"
   ]
  },
  {
   "cell_type": "code",
   "execution_count": 12,
   "id": "c20dee1e",
   "metadata": {},
   "outputs": [],
   "source": [
    "def cosine_similarity(v1,v2):\n",
    "    return  np.dot(v1, v2)/ (np.linalg.norm(v1) * np.linalg.norm(v2))"
   ]
  },
  {
   "cell_type": "code",
   "execution_count": 13,
   "id": "10b66b0b",
   "metadata": {},
   "outputs": [],
   "source": [
    "def search_engine(query):\n",
    "    query= [query]\n",
    "    result = vectorizer.transform(query).toarray()\n",
    "    v1= result.reshape(result.shape[1],) #v1 -> vec of query that need to search for\n",
    "    \n",
    "    similarity = {}\n",
    "    doc={}\n",
    "    for i in range(x.shape[0]): #no of documents \n",
    "        v2= x[i,:].toarray().reshape(x[i,:].shape[1],)#v2 ->one of docs that we search in.\n",
    "        similarity[f'doc {i+1}:'] = cosine_similarity(v1,v2)\n",
    "    return similarity"
   ]
  },
  {
   "cell_type": "code",
   "execution_count": 14,
   "id": "c723ecc4",
   "metadata": {},
   "outputs": [
    {
     "data": {
      "text/plain": [
       "{'doc 1:': 0.18455507072758484,\n",
       " 'doc 2:': 0.0,\n",
       " 'doc 3:': 0.0,\n",
       " 'doc 4:': 0.0,\n",
       " 'doc 5:': 0.0,\n",
       " 'doc 6:': 0.0,\n",
       " 'doc 7:': 0.0,\n",
       " 'doc 8:': 0.0,\n",
       " 'doc 9:': 0.0,\n",
       " 'doc 10:': 0.0}"
      ]
     },
     "execution_count": 14,
     "metadata": {},
     "output_type": "execute_result"
    }
   ],
   "source": [
    "search_engine('blood')"
   ]
  },
  {
   "cell_type": "code",
   "execution_count": 15,
   "id": "f2a16351",
   "metadata": {},
   "outputs": [
    {
     "data": {
      "text/plain": [
       "{'doc 1:': 0.4125746324285944,\n",
       " 'doc 2:': 0.027115200723483494,\n",
       " 'doc 3:': 0.019057196416221785,\n",
       " 'doc 4:': 0.05110089461736693,\n",
       " 'doc 5:': 0.021360892331820546,\n",
       " 'doc 6:': 0.04734044079239138,\n",
       " 'doc 7:': 0.06257933849218322,\n",
       " 'doc 8:': 0.02970945730522782,\n",
       " 'doc 9:': 0.06453255640777247,\n",
       " 'doc 10:': 0.04549595760666679}"
      ]
     },
     "execution_count": 15,
     "metadata": {},
     "output_type": "execute_result"
    }
   ],
   "source": [
    "search_engine('After the bullet shells get tisak')"
   ]
  },
  {
   "cell_type": "code",
   "execution_count": 16,
   "id": "da0de15f",
   "metadata": {},
   "outputs": [
    {
     "data": {
      "text/plain": [
       "[('doc 1:', 0.4125746324285944),\n",
       " ('doc 9:', 0.06453255640777247),\n",
       " ('doc 7:', 0.06257933849218322),\n",
       " ('doc 4:', 0.05110089461736693),\n",
       " ('doc 6:', 0.04734044079239138),\n",
       " ('doc 10:', 0.04549595760666679),\n",
       " ('doc 8:', 0.02970945730522782),\n",
       " ('doc 2:', 0.027115200723483494),\n",
       " ('doc 5:', 0.021360892331820546),\n",
       " ('doc 3:', 0.019057196416221785)]"
      ]
     },
     "execution_count": 16,
     "metadata": {},
     "output_type": "execute_result"
    }
   ],
   "source": [
    "#can get the most relevant documents for the query \n",
    "query='After the bullet shells get tisak'\n",
    "similarity = search_engine(query)\n",
    "similarity= sorted(similarity.items(),key = lambda x: x[1],reverse=True)\n",
    "similarity"
   ]
  },
  {
   "cell_type": "code",
   "execution_count": 17,
   "id": "b065feb0",
   "metadata": {
    "scrolled": true
   },
   "outputs": [
    {
     "name": "stdout",
     "output_type": "stream",
     "text": [
      "After the bullet shells get tisak\n",
      "doc 1: The South Bronx, just across the Harlem River from Manhattan and once shorthand for urban dysfunction, still suffers violence at levels long ago slashed in many other parts of New York City.  with similarity:  0.4125746324285944 \n",
      "\n",
      "doc 9: Nine of the 14   precinct detective squads for violent crime in the city are there.  with similarity:  0.06453255640777247 \n",
      "\n",
      "doc 7: And across the Bronx, investigative resources are squeezed.  with similarity:  0.06257933849218322 \n",
      "\n",
      "doc 4: By September, four of every five shootings in the precinct this year were unsolved.  with similarity:  0.05110089461736693 \n",
      "\n",
      "doc 6: Investigators in the precinct are saddled with twice the number of cases the department recommends, even as their bosses are called to Police Headquarters to answer for the sharpest crime rise in the city this year.  with similarity:  0.04734044079239138 \n",
      "\n",
      "doc 10: After the bullet shells get counted, the blood dries and the votive candles burn out, people peer down from   windows and see crime scenes gone cold: a band of yellow police tape blowing in the breeze.  with similarity:  0.04549595760666679 \n",
      "\n",
      "doc 8: It has the highest   rate of the cityأ¢â‚¬â„¢s five boroughs but the thinnest detective staffing.  with similarity:  0.02970945730522782 \n",
      "\n",
      "doc 2: And yet the cityأ¢â‚¬â„¢s efforts to fight it remain splintered, underfunded and burdened by scandal.  with similarity:  0.027115200723483494 \n",
      "\n",
      "doc 5: Out of the cityأ¢â‚¬â„¢s 77 precincts, the 40th has the highest murder rate but the fewest detectives per violent crime, reflecting disparities in staffing that hit hardest in some neighborhoods outside Manhattan, according to a New York Times analysis of Police Department data.  with similarity:  0.021360892331820546 \n",
      "\n",
      "doc 3: In the 40th Precinct, at the southern tip of the Bronx, as in other poor, minority neighborhoods across the country, people long hounded for   infractions are crying out for more protection against grievous injury or death.  with similarity:  0.019057196416221785 \n",
      "\n"
     ]
    }
   ],
   "source": [
    "print(query)\n",
    "for i,j in similarity:\n",
    "    print(f'{i}',corpus[int(i[-2])],\" with similarity: \",j,'\\n')"
   ]
  },
  {
   "cell_type": "code",
   "execution_count": null,
   "id": "1a2d1f39",
   "metadata": {},
   "outputs": [],
   "source": []
  },
  {
   "cell_type": "code",
   "execution_count": null,
   "id": "4125cce5",
   "metadata": {},
   "outputs": [],
   "source": []
  },
  {
   "cell_type": "code",
   "execution_count": null,
   "id": "c77b96cd",
   "metadata": {},
   "outputs": [],
   "source": []
  },
  {
   "cell_type": "code",
   "execution_count": null,
   "id": "def90248",
   "metadata": {},
   "outputs": [],
   "source": [
    "# finished code "
   ]
  },
  {
   "cell_type": "code",
   "execution_count": null,
   "id": "86d937a1",
   "metadata": {},
   "outputs": [],
   "source": [
    "# 3aizin ndwar 3la alklma bta3tna fel documents f bnd5lha 3la asas anha doc wa7ed fe list\n",
    "query = 'blood'\n",
    "query= [query]\n",
    "result_of_search = vectorizer.transform(query).toarray()\n",
    "\n",
    "result_of_search # m4 fahem al output ?"
   ]
  },
  {
   "cell_type": "code",
   "execution_count": null,
   "id": "91d1a2e0",
   "metadata": {},
   "outputs": [],
   "source": [
    "#for test\n",
    "vectorizer.transform(['After the bullet shells get tisak']).toarray().shape  # lma bt2olo transform bi3tbr list ali d5let de list of doc\n",
    "                                                                             #w bi4of al klmat ali mwgoda fel doc algdid da \n",
    "                                                                             #bel nesba llklmat ali atdrb 3liha fo2 fel (.fit_transform) bs \n",
    "                                                                             #w bnsbet 2ad eh wkda y3ni lw fe klmet 'amir' fe aldoc algdid wlla akenno 4afha"
   ]
  },
  {
   "cell_type": "code",
   "execution_count": null,
   "id": "386cceb3",
   "metadata": {},
   "outputs": [],
   "source": [
    "#for test \n",
    "pd.DataFrame(x.toarray().T, index=vectorizer.get_feature_names()) # 10 documents ,147 unique word"
   ]
  }
 ],
 "metadata": {
  "kernelspec": {
   "display_name": "Python 3 (ipykernel)",
   "language": "python",
   "name": "python3"
  },
  "language_info": {
   "codemirror_mode": {
    "name": "ipython",
    "version": 3
   },
   "file_extension": ".py",
   "mimetype": "text/x-python",
   "name": "python",
   "nbconvert_exporter": "python",
   "pygments_lexer": "ipython3",
   "version": "3.9.7"
  }
 },
 "nbformat": 4,
 "nbformat_minor": 5
}
